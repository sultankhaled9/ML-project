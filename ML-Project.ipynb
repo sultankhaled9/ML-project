{
 "cells": [
  {
   "cell_type": "markdown",
   "id": "e811e907",
   "metadata": {
    "pycharm": {
     "name": "#%% md\n"
    }
   },
   "source": [
    "## Chest-xRay classification\n",
    "\n",
    "<p >In this project we will try to build a classifier that tries to predict image for patients and we will use a dataset contains on X-ray for the chest and there is two class <br>0-Normal<br>1-Pneumonia<br>the data suffering from imbalanced data and we will try to overcome this problem by using two techniques <br> 1-over-samples<br>2-data augmentation<br>\n",
    "and We will explain that later on this note.\n",
    "and we will use three algorithms to build a classifier a Support vector machine (SVM) , k nearest neighbor (KNN) and a decision tree.  \n",
    "</p>"
   ]
  },
  {
   "cell_type": "code",
   "execution_count": null,
   "id": "d2fcc236",
   "metadata": {},
   "outputs": [],
   "source": [
    "\n"
   ]
  },
  {
   "cell_type": "code",
   "execution_count": 1,
   "id": "8e6b4bb2",
   "metadata": {
    "pycharm": {
     "name": "#%%\n"
    }
   },
   "outputs": [],
   "source": [
    "import numpy as np\n",
    "import matplotlib.pyplot as plt\n",
    "import pandas as pd\n",
    "import seaborn as sn\n",
    "import os \n",
    "import cv2\n",
    "import imgaug.augmenters as IA\n",
    "from sklearn.model_selection import train_test_split, GridSearchCV,cross_val_score\n",
    "from sklearn.svm import SVC\n",
    "from sklearn.neighbors import KNeighborsClassifier\n",
    "from sklearn.ensemble import RandomForestClassifier\n",
    "from sklearn import metrics\n",
    "from sklearn.metrics import accuracy_score, confusion_matrix\n",
    "from imblearn.over_sampling import  SMOTE\n",
    "from collections  import Counter\n",
    "# from keras.preprocessing.image import ImageDataGenerator\n",
    "\n",
    "\n",
    "train_path = \"train\"\n",
    "test_path = \"test\"\n",
    "val_path = \"val\"\n",
    "\n",
    "\n",
    "img_size = 28 \n",
    "seed = 42 \n",
    "# test_size = 0.2\n"
   ]
  },
  {
   "cell_type": "code",
   "execution_count": null,
   "id": "2f8f151f",
   "metadata": {
    "pycharm": {
     "name": "#%%\n"
    }
   },
   "outputs": [],
   "source": []
  },
  {
   "cell_type": "code",
   "execution_count": 2,
   "id": "d6e01483",
   "metadata": {
    "pycharm": {
     "name": "#%%\n"
    }
   },
   "outputs": [],
   "source": [
    "def plot_confusion_matrix(actual,pred): # Plot the confusion matrix \n",
    "    sn.heatmap(confusion_matrix(actual ,pred),annot=True, yticklabels=['NORMAL','PNEUMONIA'],xticklabels=['NORMAL','PNEUMONIA']\n",
    "               ,fmt=\"g\")\n",
    "    plt.tight_layout()\n",
    "    plt.show()\n"
   ]
  },
  {
   "cell_type": "markdown",
   "id": "33b74d88",
   "metadata": {
    "pycharm": {
     "name": "#%% md\n"
    }
   },
   "source": [
    "### Create Training data set \n",
    "\n",
    "the data is raw image first we need to read image in gray sacle then we resize the image to 28x28 becuase the image have a diffrient dimsonsion. For that we will use openCV library (cv2) in we will save it as csv file."
   ]
  },
  {
   "cell_type": "code",
   "execution_count": 3,
   "id": "f922535e",
   "metadata": {
    "pycharm": {
     "name": "#%%\n"
    }
   },
   "outputs": [],
   "source": [
    "def create_dataset(dir_path):\n",
    "    X = []\n",
    "    y = []\n",
    "    Classes = [\"NORMAL\",\"PNEUMONIA\"]\n",
    "    for i in range(len(Classes)):\n",
    "        path = os.path.join(dir_path,Classes[i]) # path to each class\n",
    "        print(\"Reading Imgae in GrayScale class {}\".format(Classes[i]))\n",
    "        for image in os.listdir(path):\n",
    "            try:\n",
    "                image_path = os.path.join(path,image) # image path\n",
    "                \n",
    "                image = cv2.imread(image_path,cv2.IMREAD_GRAYSCALE) # Read Image in gray sacle\n",
    "                \n",
    "                image = cv2.resize(image,(img_size,img_size))# reszie image by 28x28\n",
    "                \n",
    "                X.append(image.flatten())# flat the image array to end up  array in 2d-array \n",
    "                \n",
    "                y.append(i) # label for image \n",
    "                    \n",
    "            except Exception as e:\n",
    "                pass\n",
    "        print(\"Reading Image for class {} is done\".format(Classes[i]))\n",
    "    \n",
    "    return X , y \n"
   ]
  },
  {
   "cell_type": "code",
   "execution_count": 4,
   "id": "1face8dd",
   "metadata": {
    "pycharm": {
     "name": "#%%\n"
    },
    "scrolled": true
   },
   "outputs": [
    {
     "name": "stdout",
     "output_type": "stream",
     "text": [
      "Data is loaded !!!\n"
     ]
    }
   ],
   "source": [
    "if not os.path.exists(\"Train.csv\"):\n",
    "    Train_X , Train_y = create_dataset(dir_path=train_path)\n",
    "    Train_X = np.array(Train_X)\n",
    "    Train_y = np.array(Train_y)\n",
    "\n",
    "    train_set = pd.DataFrame(data=Train_X)\n",
    "    train_set[\"target\"] = Train_y\n",
    "    train_set.to_csv(\"Train.csv\",index=False)\n",
    "else:\n",
    "    train_set = pd.read_csv(\"Train.csv\")\n",
    "    print(\"Data is loaded !!!\")"
   ]
  },
  {
   "cell_type": "code",
   "execution_count": null,
   "id": "13d3e8a1",
   "metadata": {
    "pycharm": {
     "name": "#%%\n"
    }
   },
   "outputs": [],
   "source": [
    "\n"
   ]
  },
  {
   "cell_type": "markdown",
   "id": "6e8a1383",
   "metadata": {
    "pycharm": {
     "name": "#%% md\n"
    }
   },
   "source": [
    "### Create Test data \n",
    "\n",
    "#### some text will be here"
   ]
  },
  {
   "cell_type": "code",
   "execution_count": 5,
   "id": "c605a13d",
   "metadata": {
    "pycharm": {
     "name": "#%%\n"
    }
   },
   "outputs": [
    {
     "name": "stdout",
     "output_type": "stream",
     "text": [
      "Data is loaded !!!\n"
     ]
    }
   ],
   "source": [
    "if not os.path.exists(\"Test.csv\"):\n",
    "    Test_X , Test_y = create_dataset(dir_path=test_path)\n",
    "    Test_X = np.array(Test_X)\n",
    "    Test_y = np.array(Test_y)\n",
    "\n",
    "    test_set = pd.DataFrame(data=Test_X)\n",
    "    test_set[\"target\"] = Test_y\n",
    "    test_set.to_csv(\"Test.csv\",index=False)\n",
    "else:\n",
    "    test_set = pd.read_csv(\"Test.csv\")\n",
    "\n",
    "    print(\"Data is loaded !!!\")"
   ]
  },
  {
   "cell_type": "code",
   "execution_count": 6,
   "id": "80b031d1",
   "metadata": {
    "pycharm": {
     "name": "#%%\n"
    },
    "scrolled": true
   },
   "outputs": [
    {
     "name": "stdout",
     "output_type": "stream",
     "text": [
      "Data is loaded !!!\n"
     ]
    }
   ],
   "source": [
    "if not os.path.exists(\"val.csv\"):\n",
    "    val_X , val_y = create_dataset(dir_path=val_path)\n",
    "    val_X = np.array(val_X)\n",
    "    val_y = np.array(val_y)\n",
    "\n",
    "    val_set = pd.DataFrame(data=val_X)\n",
    "    val_set[\"target\"] = val_y\n",
    "    val_set.to_csv(\"val.csv\",index=False)\n",
    "else:\n",
    "    val_set = pd.read_csv(\"val.csv\")\n",
    "\n",
    "    print(\"Data is loaded !!!\")"
   ]
  },
  {
   "cell_type": "code",
   "execution_count": null,
   "id": "e13a5b88",
   "metadata": {
    "pycharm": {
     "name": "#%%\n"
    }
   },
   "outputs": [],
   "source": []
  },
  {
   "cell_type": "markdown",
   "id": "e636eedb",
   "metadata": {
    "pycharm": {
     "name": "#%% md\n"
    }
   },
   "source": [
    "### Imbalanced data \n",
    "It's normal to have imbalanced data, especially in medical data, and for that, we have for normal class we have 1341 images and for Pneumonia have 3875 images in total we have 5216 images."
   ]
  },
  {
   "cell_type": "code",
   "execution_count": 7,
   "id": "31ef1de8",
   "metadata": {
    "pycharm": {
     "name": "#%%\n"
    }
   },
   "outputs": [
    {
     "name": "stdout",
     "output_type": "stream",
     "text": [
      "1    3875\n",
      "0    1341\n",
      "Name: target, dtype: int64\n"
     ]
    },
    {
     "data": {
      "image/png": "[encoded data removed]",
      "text/plain": [
       "<Figure size 288x360 with 1 Axes>"
      ]
     },
     "metadata": {
      "needs_background": "light"
     },
     "output_type": "display_data"
    }
   ],
   "source": [
    "y = train_set['target'].value_counts()\n",
    "print(y)\n",
    "plt.figure(figsize=(4,5))\n",
    "sn.barplot(x=y.index, y = y.values)\n",
    "plt.title('Number of cases', fontsize=14)\n",
    "plt.xlabel('Case type', fontsize=12)\n",
    "plt.ylabel('Count', fontsize=12)\n",
    "plt.xticks(range(len(y.index)), ['Normal(0)', 'Pneumonia(1)'])\n",
    "plt.show()"
   ]
  },
  {
   "cell_type": "code",
   "execution_count": 8,
   "id": "d006197e",
   "metadata": {
    "pycharm": {
     "name": "#%%\n"
    }
   },
   "outputs": [],
   "source": [
    "x_train = train_set.drop('target', axis='columns')\n",
    "y_train = train_set['target']\n",
    "\n",
    "x_train = x_train / 255 # sacle the data to end up with vlaues between (0,1)\n",
    "\n",
    "\n",
    "xTest = test_set.drop('target', axis='columns')\n",
    "yTest = test_set['target']\n",
    "xTest = xTest / 255"
   ]
  },
  {
   "cell_type": "code",
   "execution_count": null,
   "id": "1f9b2dc6",
   "metadata": {
    "pycharm": {
     "name": "#%%\n"
    }
   },
   "outputs": [],
   "source": []
  },
  {
   "cell_type": "markdown",
   "id": "93bd23d9",
   "metadata": {
    "pycharm": {
     "name": "#%% md\n"
    }
   },
   "source": [
    "### classifier with imbalanced data \n",
    "First, we want to build a model using the imbalanced data and we will show how that affects on the model and we will show what the accuracy we got and how much we got for the precision and recall."
   ]
  },
  {
   "cell_type": "code",
   "execution_count": 9,
   "id": "ea390cb2",
   "metadata": {
    "pycharm": {
     "name": "#%%\n"
    }
   },
   "outputs": [
    {
     "name": "stdout",
     "output_type": "stream",
     "text": [
      "Accuracy on valdation data: 0.75\n",
      "Accuracy on test data: 0.7676282051282052\n",
      "Precision for test data: 0.7324478178368121\n",
      "Recall: for test data 0.9897435897435898\n"
     ]
    },
    {
     "data": {
      "image/png": "[encoded data removed]",
      "text/plain": [
       "<Figure size 432x288 with 2 Axes>"
      ]
     },
     "metadata": {
      "needs_background": "light"
     },
     "output_type": "display_data"
    }
   ],
   "source": [
    "\n",
    "svc = SVC()\n",
    "svc.fit(x_train,y_train)\n",
    "\n",
    "pred = svc.predict(val_set.drop('target',axis='columns')/255)\n",
    "pred2 = svc.predict(xTest)\n",
    "\n",
    "\n",
    "print('Accuracy on valdation data:',accuracy_score(val_set['target'],pred))\n",
    "\n",
    "print('Accuracy on test data:',accuracy_score(yTest,pred2))\n",
    "print('Precision for test data:',metrics.precision_score(yTest,pred2))\n",
    "print('Recall: for test data',metrics.recall_score(yTest,pred2))\n",
    "\n",
    "plot_confusion_matrix(actual=yTest,pred=pred2)"
   ]
  },
  {
   "cell_type": "markdown",
   "id": "ff2c475b",
   "metadata": {
    "pycharm": {
     "name": "#%% md\n"
    }
   },
   "source": [
    "as we can see we got for the validation set 75% accuracy that good but we got on test data 76% accuracy and we got for test data precision 72% and for recall 98% which means the model will predict incorrect labels as we can see from confusion matrix it predict for normal class 90 from 234 and for Pneumonia it's only 4 got incorrect."
   ]
  },
  {
   "cell_type": "markdown",
   "id": "f60c8d14",
   "metadata": {
    "pycharm": {
     "name": "#%% md\n"
    }
   },
   "source": [
    "### Over-samples (SMOTE)\n",
    "\n",
    "Smote stands for synthetic minority over-sampling technique the idea behind this is to duplicate the samples in the minority class but rather than duplicate with the replacement it will create a synthetic example and it's done on feature space. synthetic example it will be created using k-nearest-neighbor (k = 5) first it will chose at random on sample then find the K-nearest neighbor then choice one of it's k-nearest neighbor, new sample will be calculated as following <br><br>$new sample = x_i  + random(0,1) * (x_i - x_j) $\n",
    "\n",
    "where:<br>\n",
    "$x_i$: random sample <br>\n",
    "$x_j$ : one of nearest neighbor from $x_i$\n",
    "\n",
    "we will use smote algorithm from library imblearn to help us to use SMOTE."
   ]
  },
  {
   "cell_type": "code",
   "execution_count": 10,
   "id": "25206e58",
   "metadata": {
    "pycharm": {
     "name": "#%%\n"
    }
   },
   "outputs": [
    {
     "name": "stdout",
     "output_type": "stream",
     "text": [
      "0    3875\n",
      "1    3875\n",
      "Name: target, dtype: int64\n"
     ]
    },
    {
     "data": {
      "image/png": "[encoded data removed]",
      "text/plain": [
       "<Figure size 288x360 with 1 Axes>"
      ]
     },
     "metadata": {
      "needs_background": "light"
     },
     "output_type": "display_data"
    }
   ],
   "source": [
    "smote = SMOTE(random_state=42)\n",
    "\n",
    "X_smote , y_smote = smote.fit_resample(x_train,y_train)\n",
    "\n",
    "count = y_smote.value_counts()\n",
    "print(count)\n",
    "plt.figure(figsize=(4,5))\n",
    "sn.barplot(x=count.index, y = count.values)\n",
    "plt.title('Number of cases', fontsize=14)\n",
    "plt.xlabel('Case type', fontsize=12)\n",
    "plt.ylabel('Count', fontsize=12)\n",
    "plt.xticks(range(len(count.index)), ['Normal(0)', 'Pneumonia(1)'])\n",
    "plt.show()"
   ]
  },
  {
   "cell_type": "markdown",
   "id": "f7adbe32",
   "metadata": {
    "pycharm": {
     "name": "#%% md\n"
    }
   },
   "source": [
    "### Data Augmentation \n",
    "the second technique is data augmentation is widely used in image preprocessing it's used to generate a new sample in a minority class and it's done by performing some operations on the same image like rotation, zoom in/out, and flipping the image and more. \n",
    "and we will use three operation which is <br>1-horizontal flips <br> 2- rotation by 20 degree <br>3-brightness <br>4-zoom in<br>\n",
    "and we will use imgaug library to help us."
   ]
  },
  {
   "cell_type": "code",
   "execution_count": 11,
   "id": "5e089743",
   "metadata": {
    "pycharm": {
     "name": "#%%\n"
    }
   },
   "outputs": [],
   "source": [
    "aug = IA.OneOf([\n",
    "    IA.Fliplr(), # horizontal flips\n",
    "    IA.Affine(rotate=30), # roatation\n",
    "#     IA.Multiply((1.2, 1.5)),#random brightness\n",
    "    IA.Affine(scale=0.3) ]) # zoom in  "
   ]
  },
  {
   "cell_type": "code",
   "execution_count": 12,
   "id": "a5c03482",
   "metadata": {
    "pycharm": {
     "name": "#%%\n"
    }
   },
   "outputs": [],
   "source": [
    "def create_dataset_aug():\n",
    "    X = []\n",
    "    y = []\n",
    "    count =0\n",
    "    Classes = [\"NORMAL\",\"PNEUMONIA\"]\n",
    "    for i in range(len(Classes)):\n",
    "        path = os.path.join(train_path,Classes[i]) # path to each class\n",
    "        print(\"Reading Imgae in GrayScale class {}\".format(Classes[i]))\n",
    "        for image in os.listdir(path):\n",
    "            try:\n",
    "                image_path = os.path.join(path,image) # image path\n",
    "                \n",
    "                image = cv2.imread(image_path,cv2.IMREAD_GRAYSCALE) # Read Image in gray sacle\n",
    "                \n",
    "                image = cv2.resize(image,(img_size,img_size))# reszie image by 28x28\n",
    "                if i == 0 and count != 1268:\n",
    "                    image_aug1= aug.augment_image(image)\n",
    "                    image_aug2= aug.augment_image(image)\n",
    "                    X.append(image_aug1.flatten())# flat the image array to end up  array in 2d-array \n",
    "                    X.append(image_aug2.flatten())# flat the image array to end up  array in 2d-array \n",
    "                    y.append(i)\n",
    "                    y.append(i)\n",
    "                    count +=1\n",
    "                \n",
    "                X.append(image.flatten())# flat the image array to end up  array in 2d-array \n",
    "                \n",
    "                y.append(i) # label for image \n",
    "                    \n",
    "            except Exception as e:\n",
    "                pass\n",
    "        print(\"Reading Image for class {} is done\".format(Classes[i]))\n",
    "    \n",
    "    return X , y "
   ]
  },
  {
   "cell_type": "code",
   "execution_count": 13,
   "id": "45b2144e",
   "metadata": {
    "pycharm": {
     "name": "#%%\n"
    },
    "scrolled": true
   },
   "outputs": [
    {
     "name": "stdout",
     "output_type": "stream",
     "text": [
      "Data is loaded !!!\n"
     ]
    }
   ],
   "source": [
    "if not os.path.exists(\"Train_aug.csv\"):\n",
    "    TrainAug_X , TrainAug_y = create_dataset_aug()\n",
    "    TrainAug_X = np.array(TrainAug_X)\n",
    "    TrainAug_y = np.array(TrainAug_y)\n",
    "\n",
    "    TrainAug_set = pd.DataFrame(data=TrainAug_X)\n",
    "    TrainAug_set[\"target\"] = TrainAug_y\n",
    "    TrainAug_set.to_csv(\"Train_aug.csv\",index=False)\n",
    "else:\n",
    "    TrainAug_set = pd.read_csv(\"Train_aug.csv\")\n",
    "    print(\"Data is loaded !!!\")"
   ]
  },
  {
   "cell_type": "code",
   "execution_count": 14,
   "id": "093e4c83",
   "metadata": {
    "pycharm": {
     "name": "#%%\n"
    },
    "scrolled": true
   },
   "outputs": [
    {
     "data": {
      "text/html": [
       "<div>\n",
       "<style scoped>\n",
       "    .dataframe tbody tr th:only-of-type {\n",
       "        vertical-align: middle;\n",
       "    }\n",
       "\n",
       "    .dataframe tbody tr th {\n",
       "        vertical-align: top;\n",
       "    }\n",
       "\n",
       "    .dataframe thead th {\n",
       "        text-align: right;\n",
       "    }\n",
       "</style>\n",
       "<table border=\"1\" class=\"dataframe\">\n",
       "  <thead>\n",
       "    <tr style=\"text-align: right;\">\n",
       "      <th></th>\n",
       "      <th>pixel 0</th>\n",
       "      <th>pixel 1</th>\n",
       "      <th>pixel 2</th>\n",
       "      <th>pixel 3</th>\n",
       "      <th>pixel 4</th>\n",
       "      <th>pixel 5</th>\n",
       "      <th>pixel 6</th>\n",
       "      <th>pixel 7</th>\n",
       "      <th>pixel 8</th>\n",
       "      <th>pixel 9</th>\n",
       "      <th>...</th>\n",
       "      <th>pixel 775</th>\n",
       "      <th>pixel 776</th>\n",
       "      <th>pixel 777</th>\n",
       "      <th>pixel 778</th>\n",
       "      <th>pixel 779</th>\n",
       "      <th>pixel 780</th>\n",
       "      <th>pixel 781</th>\n",
       "      <th>pixel 782</th>\n",
       "      <th>pixel 783</th>\n",
       "      <th>target</th>\n",
       "    </tr>\n",
       "  </thead>\n",
       "  <tbody>\n",
       "    <tr>\n",
       "      <th>0</th>\n",
       "      <td>149</td>\n",
       "      <td>149</td>\n",
       "      <td>142</td>\n",
       "      <td>150</td>\n",
       "      <td>160</td>\n",
       "      <td>155</td>\n",
       "      <td>170</td>\n",
       "      <td>183</td>\n",
       "      <td>170</td>\n",
       "      <td>166</td>\n",
       "      <td>...</td>\n",
       "      <td>200</td>\n",
       "      <td>197</td>\n",
       "      <td>194</td>\n",
       "      <td>187</td>\n",
       "      <td>169</td>\n",
       "      <td>155</td>\n",
       "      <td>140</td>\n",
       "      <td>122</td>\n",
       "      <td>123</td>\n",
       "      <td>0</td>\n",
       "    </tr>\n",
       "    <tr>\n",
       "      <th>1</th>\n",
       "      <td>149</td>\n",
       "      <td>149</td>\n",
       "      <td>142</td>\n",
       "      <td>150</td>\n",
       "      <td>160</td>\n",
       "      <td>155</td>\n",
       "      <td>170</td>\n",
       "      <td>183</td>\n",
       "      <td>170</td>\n",
       "      <td>166</td>\n",
       "      <td>...</td>\n",
       "      <td>200</td>\n",
       "      <td>197</td>\n",
       "      <td>194</td>\n",
       "      <td>187</td>\n",
       "      <td>169</td>\n",
       "      <td>155</td>\n",
       "      <td>140</td>\n",
       "      <td>122</td>\n",
       "      <td>123</td>\n",
       "      <td>0</td>\n",
       "    </tr>\n",
       "    <tr>\n",
       "      <th>2</th>\n",
       "      <td>17</td>\n",
       "      <td>69</td>\n",
       "      <td>97</td>\n",
       "      <td>113</td>\n",
       "      <td>140</td>\n",
       "      <td>113</td>\n",
       "      <td>102</td>\n",
       "      <td>70</td>\n",
       "      <td>252</td>\n",
       "      <td>79</td>\n",
       "      <td>...</td>\n",
       "      <td>189</td>\n",
       "      <td>130</td>\n",
       "      <td>135</td>\n",
       "      <td>150</td>\n",
       "      <td>175</td>\n",
       "      <td>46</td>\n",
       "      <td>18</td>\n",
       "      <td>31</td>\n",
       "      <td>32</td>\n",
       "      <td>0</td>\n",
       "    </tr>\n",
       "    <tr>\n",
       "      <th>3</th>\n",
       "      <td>28</td>\n",
       "      <td>87</td>\n",
       "      <td>88</td>\n",
       "      <td>111</td>\n",
       "      <td>50</td>\n",
       "      <td>51</td>\n",
       "      <td>25</td>\n",
       "      <td>23</td>\n",
       "      <td>25</td>\n",
       "      <td>31</td>\n",
       "      <td>...</td>\n",
       "      <td>206</td>\n",
       "      <td>187</td>\n",
       "      <td>179</td>\n",
       "      <td>165</td>\n",
       "      <td>139</td>\n",
       "      <td>92</td>\n",
       "      <td>35</td>\n",
       "      <td>0</td>\n",
       "      <td>0</td>\n",
       "      <td>0</td>\n",
       "    </tr>\n",
       "    <tr>\n",
       "      <th>4</th>\n",
       "      <td>28</td>\n",
       "      <td>87</td>\n",
       "      <td>88</td>\n",
       "      <td>111</td>\n",
       "      <td>50</td>\n",
       "      <td>51</td>\n",
       "      <td>25</td>\n",
       "      <td>23</td>\n",
       "      <td>25</td>\n",
       "      <td>31</td>\n",
       "      <td>...</td>\n",
       "      <td>206</td>\n",
       "      <td>187</td>\n",
       "      <td>179</td>\n",
       "      <td>165</td>\n",
       "      <td>139</td>\n",
       "      <td>92</td>\n",
       "      <td>35</td>\n",
       "      <td>0</td>\n",
       "      <td>0</td>\n",
       "      <td>0</td>\n",
       "    </tr>\n",
       "  </tbody>\n",
       "</table>\n",
       "<p>5 rows × 785 columns</p>\n",
       "</div>"
      ],
      "text/plain": [
       "   pixel 0  pixel 1  pixel 2  pixel 3  pixel 4  pixel 5  pixel 6  pixel 7  \\\n",
       "0      149      149      142      150      160      155      170      183   \n",
       "1      149      149      142      150      160      155      170      183   \n",
       "2       17       69       97      113      140      113      102       70   \n",
       "3       28       87       88      111       50       51       25       23   \n",
       "4       28       87       88      111       50       51       25       23   \n",
       "\n",
       "   pixel 8  pixel 9  ...  pixel 775  pixel 776  pixel 777  pixel 778  \\\n",
       "0      170      166  ...        200        197        194        187   \n",
       "1      170      166  ...        200        197        194        187   \n",
       "2      252       79  ...        189        130        135        150   \n",
       "3       25       31  ...        206        187        179        165   \n",
       "4       25       31  ...        206        187        179        165   \n",
       "\n",
       "   pixel 779  pixel 780  pixel 781  pixel 782  pixel 783  target  \n",
       "0        169        155        140        122        123       0  \n",
       "1        169        155        140        122        123       0  \n",
       "2        175         46         18         31         32       0  \n",
       "3        139         92         35          0          0       0  \n",
       "4        139         92         35          0          0       0  \n",
       "\n",
       "[5 rows x 785 columns]"
      ]
     },
     "execution_count": 14,
     "metadata": {},
     "output_type": "execute_result"
    }
   ],
   "source": [
    "TrainAug_set.head()"
   ]
  },
  {
   "cell_type": "code",
   "execution_count": 15,
   "id": "c007760e",
   "metadata": {
    "pycharm": {
     "name": "#%%\n"
    },
    "scrolled": false
   },
   "outputs": [
    {
     "name": "stdout",
     "output_type": "stream",
     "text": [
      "0    3877\n",
      "1    3875\n",
      "Name: target, dtype: int64\n"
     ]
    },
    {
     "data": {
      "image/png": "[encoded data removed]",
      "text/plain": [
       "<Figure size 288x360 with 1 Axes>"
      ]
     },
     "metadata": {
      "needs_background": "light"
     },
     "output_type": "display_data"
    }
   ],
   "source": [
    "X_Aug = TrainAug_set.drop('target',axis='columns')\n",
    "y_Aug = TrainAug_set['target']\n",
    "X_Aug = X_Aug/255\n",
    "count = y_Aug.value_counts()\n",
    "print(count)\n",
    "plt.figure(figsize=(4,5))\n",
    "sn.barplot(x=count.index, y = count.values)\n",
    "plt.title('Number of examples', fontsize=14)\n",
    "plt.xlabel('class', fontsize=12)\n",
    "plt.ylabel('Count', fontsize=12)\n",
    "plt.xticks(range(len(count.index)), ['Normal(0)', 'Pneumonia(1)'])\n",
    "plt.show()"
   ]
  },
  {
   "cell_type": "markdown",
   "id": "b02e0631",
   "metadata": {
    "pycharm": {
     "name": "#%% md\n"
    }
   },
   "source": [
    "### Support vector machine (SVM)\n",
    "The first classifier we have is SVM first we will implement SVM using the default parameter then we will try different parameters to achieve the best result on our test data"
   ]
  },
  {
   "cell_type": "code",
   "execution_count": 16,
   "id": "84e6f0f3",
   "metadata": {
    "pycharm": {
     "name": "#%%\n"
    }
   },
   "outputs": [
    {
     "data": {
      "text/plain": [
       "SVC()"
      ]
     },
     "execution_count": 16,
     "metadata": {},
     "output_type": "execute_result"
    }
   ],
   "source": [
    "svc_overSamples = SVC()\n",
    "svc_overSamples.fit(X_smote,y_smote)\n",
    "\n",
    "svc_Aug = SVC()\n",
    "svc_Aug.fit(X_Aug,y_Aug)"
   ]
  },
  {
   "cell_type": "code",
   "execution_count": 17,
   "id": "dfff120c",
   "metadata": {
    "pycharm": {
     "name": "#%%\n"
    }
   },
   "outputs": [
    {
     "name": "stdout",
     "output_type": "stream",
     "text": [
      "OverSamples\n",
      "Accuracy on test data: 0.782051282051282\n",
      "Precision for test data: 0.75\n",
      "Recall: for test data 0.9769230769230769\n"
     ]
    },
    {
     "data": {
      "image/png": "[encoded data removed]",
      "text/plain": [
       "<Figure size 432x288 with 2 Axes>"
      ]
     },
     "metadata": {
      "needs_background": "light"
     },
     "output_type": "display_data"
    },
    {
     "name": "stdout",
     "output_type": "stream",
     "text": [
      "Data augmentation\n",
      "Accuracy on test data: 0.7852564102564102\n",
      "Precision for test data: 0.7519685039370079\n",
      "Recall: for test data 0.9794871794871794\n"
     ]
    },
    {
     "data": {
      "image/png": "[encoded data removed]",
      "text/plain": [
       "<Figure size 432x288 with 2 Axes>"
      ]
     },
     "metadata": {
      "needs_background": "light"
     },
     "output_type": "display_data"
    }
   ],
   "source": [
    "pred_over = svc_overSamples.predict(xTest)\n",
    "pred_aug = svc_Aug.predict(xTest)\n",
    "\n",
    "print(\"OverSamples\")\n",
    "\n",
    "print('Accuracy on test data:',accuracy_score(yTest,pred_over))\n",
    "print('Precision for test data:',metrics.precision_score(yTest,pred_over))\n",
    "print('Recall: for test data',metrics.recall_score(yTest,pred_over))\n",
    "\n",
    "plot_confusion_matrix(actual=yTest,pred=pred_over)\n",
    "\n",
    "print(\"Data augmentation\")\n",
    "print('Accuracy on test data:',accuracy_score(yTest,pred_aug))\n",
    "print('Precision for test data:',metrics.precision_score(yTest,pred_aug))\n",
    "print('Recall: for test data',metrics.recall_score(yTest,pred_aug))\n",
    "\n",
    "plot_confusion_matrix(actual=yTest,pred=pred_aug)\n",
    "\n"
   ]
  },
  {
   "cell_type": "markdown",
   "id": "deb0ae01",
   "metadata": {
    "pycharm": {
     "name": "#%% md\n"
    }
   },
   "source": [
    "### SVM Parameters \n",
    "There are several parameters for SVM but we are interested in one which is C, we will try C on 4 values {0.1,1,10,100} and we will see the accuracy of test data <br>\n",
    "C: cost of misclassified examples \n"
   ]
  },
  {
   "cell_type": "code",
   "execution_count": 18,
   "id": "a569f8b5",
   "metadata": {
    "pycharm": {
     "name": "#%%\n"
    }
   },
   "outputs": [],
   "source": [
    "clfs =[]\n",
    "C = [0.1, 1, 10, 100]\n",
    "for i in range(4):\n",
    "    clfs.append(SVC(C=C[i],gamma='auto').fit(X_smote,y_smote).predict(xTest))"
   ]
  },
  {
   "cell_type": "code",
   "execution_count": 19,
   "id": "70a7f80c",
   "metadata": {
    "pycharm": {
     "name": "#%%\n"
    }
   },
   "outputs": [
    {
     "name": "stdout",
     "output_type": "stream",
     "text": [
      "[0.8317307692307693, 0.7900641025641025, 0.782051282051282, 0.7740384615384616]\n"
     ]
    }
   ],
   "source": [
    "acc_test = []\n",
    "for i in range(4):\n",
    "    acc_test.append(accuracy_score(yTest,clfs[i]))\n",
    "print(acc_test)"
   ]
  },
  {
   "cell_type": "code",
   "execution_count": 20,
   "id": "8eaa0578",
   "metadata": {
    "pycharm": {
     "name": "#%%\n"
    }
   },
   "outputs": [
    {
     "data": {
      "image/png": "[encoded data removed]",
      "text/plain": [
       "<Figure size 1008x504 with 1 Axes>"
      ]
     },
     "metadata": {
      "needs_background": "light"
     },
     "output_type": "display_data"
    }
   ],
   "source": [
    "plt.figure(figsize=(14, 7))\n",
    "plt.plot(C, acc_test, label='test_accuracy')\n",
    "plt.scatter(C, acc_test)\n",
    "\n",
    "plt.xticks(ticks=np.arange(1,100,10), rotation=60)\n",
    "plt.grid()\n",
    "plt.legend()\n",
    "plt.xlabel(\"C\")\n",
    "plt.ylabel(\"Accuracy\")\n",
    "plt.title('Accuracy vs C (Figure 1)')\n",
    "plt.show()"
   ]
  },
  {
   "cell_type": "markdown",
   "id": "0342e503",
   "metadata": {
    "pycharm": {
     "name": "#%% md\n"
    }
   },
   "source": [
    "From the graph we can say that the best accuracy is 83% and C = 0.1, now let fit the model"
   ]
  },
  {
   "cell_type": "code",
   "execution_count": 21,
   "id": "f644831c",
   "metadata": {
    "pycharm": {
     "name": "#%%\n"
    }
   },
   "outputs": [
    {
     "data": {
      "text/plain": [
       "SVC(C=0.1, gamma='auto')"
      ]
     },
     "execution_count": 21,
     "metadata": {},
     "output_type": "execute_result"
    }
   ],
   "source": [
    "svc_overSample = SVC(C=0.1,gamma='auto')\n",
    "svc_overSample.fit(X_smote,y_smote)\n"
   ]
  },
  {
   "cell_type": "code",
   "execution_count": 22,
   "id": "e28f6d9b",
   "metadata": {
    "pycharm": {
     "name": "#%%\n"
    }
   },
   "outputs": [
    {
     "name": "stdout",
     "output_type": "stream",
     "text": [
      "OverSamples\n",
      "Accuracy on test data: 0.8317307692307693\n",
      "Precision for test data: 0.8501228501228502\n",
      "Recall: for test data 0.8871794871794871\n"
     ]
    },
    {
     "data": {
      "image/png": "[encoded data removed]",
      "text/plain": [
       "<Figure size 432x288 with 2 Axes>"
      ]
     },
     "metadata": {
      "needs_background": "light"
     },
     "output_type": "display_data"
    }
   ],
   "source": [
    "pred_over = svc_overSample.predict(xTest)\n",
    "\n",
    "print(\"OverSamples\")\n",
    "\n",
    "print('Accuracy on test data:',accuracy_score(yTest,pred_over))\n",
    "print('Precision for test data:',metrics.precision_score(yTest,pred_over))\n",
    "print('Recall: for test data',metrics.recall_score(yTest,pred_over))\n",
    "\n",
    "plot_confusion_matrix(actual=yTest,pred=pred_over)\n"
   ]
  },
  {
   "cell_type": "code",
   "execution_count": 23,
   "id": "c8dfe19b",
   "metadata": {
    "pycharm": {
     "name": "#%%\n"
    },
    "scrolled": false
   },
   "outputs": [],
   "source": [
    "clfs =[]\n",
    "C = [0.1, 1, 10, 100]\n",
    "for i in range(4):\n",
    "    clfs.append(SVC(C=C[i]).fit(X_Aug,y_Aug).predict(xTest))"
   ]
  },
  {
   "cell_type": "code",
   "execution_count": 24,
   "id": "3e188cc7",
   "metadata": {
    "pycharm": {
     "name": "#%%\n"
    }
   },
   "outputs": [
    {
     "name": "stdout",
     "output_type": "stream",
     "text": [
      "[0.7948717948717948, 0.7852564102564102, 0.780448717948718, 0.7836538461538461]\n"
     ]
    }
   ],
   "source": [
    "acc_test2 = []\n",
    "for i in range(4):\n",
    "    acc_test2.append(accuracy_score(yTest,clfs[i]))\n",
    "print(acc_test2)"
   ]
  },
  {
   "cell_type": "code",
   "execution_count": 25,
   "id": "490617f8",
   "metadata": {
    "pycharm": {
     "name": "#%%\n"
    }
   },
   "outputs": [
    {
     "data": {
      "image/png": "[encoded data removed]",
      "text/plain": [
       "<Figure size 1008x504 with 1 Axes>"
      ]
     },
     "metadata": {
      "needs_background": "light"
     },
     "output_type": "display_data"
    }
   ],
   "source": [
    "plt.figure(figsize=(14, 7))\n",
    "plt.plot(C, acc_test2, label='test_accuracy')\n",
    "plt.scatter(C, acc_test2)\n",
    "\n",
    "plt.xticks(ticks=np.arange(1,100,10), rotation=60)\n",
    "plt.grid()\n",
    "plt.legend()\n",
    "plt.xlabel(\"C\")\n",
    "plt.ylabel(\"Accuracy\")\n",
    "plt.title('Accuracy vs C (Figure 1)')\n",
    "plt.show()"
   ]
  },
  {
   "cell_type": "code",
   "execution_count": 26,
   "id": "7e917bf7",
   "metadata": {
    "pycharm": {
     "name": "#%%\n"
    }
   },
   "outputs": [
    {
     "data": {
      "text/plain": [
       "SVC(C=0.1)"
      ]
     },
     "execution_count": 26,
     "metadata": {},
     "output_type": "execute_result"
    }
   ],
   "source": [
    "svc_augm = SVC(C=0.1)\n",
    "svc_augm.fit(X_Aug,y_Aug)\n"
   ]
  },
  {
   "cell_type": "code",
   "execution_count": 27,
   "id": "69a9f498",
   "metadata": {
    "pycharm": {
     "name": "#%%\n"
    },
    "scrolled": false
   },
   "outputs": [
    {
     "name": "stdout",
     "output_type": "stream",
     "text": [
      "Data augmentation\n",
      "Accuracy on test data: 0.7948717948717948\n",
      "Precision for test data: 0.7641129032258065\n",
      "Recall: for test data 0.9717948717948718\n"
     ]
    },
    {
     "data": {
      "image/png": "[encoded data removed]",
      "text/plain": [
       "<Figure size 432x288 with 2 Axes>"
      ]
     },
     "metadata": {
      "needs_background": "light"
     },
     "output_type": "display_data"
    }
   ],
   "source": [
    "pred_aug = svc_augm.predict(xTest)\n",
    "\n",
    "print(\"Data augmentation\")\n",
    "\n",
    "print('Accuracy on test data:',accuracy_score(yTest,pred_aug))\n",
    "print('Precision for test data:',metrics.precision_score(yTest,pred_aug))\n",
    "print('Recall: for test data',metrics.recall_score(yTest,pred_aug))\n",
    "\n",
    "plot_confusion_matrix(actual=yTest,pred=pred_aug)\n"
   ]
  },
  {
   "cell_type": "code",
   "execution_count": null,
   "id": "4236da03",
   "metadata": {
    "pycharm": {
     "name": "#%%\n"
    }
   },
   "outputs": [],
   "source": []
  },
  {
   "cell_type": "markdown",
   "id": "99e66280",
   "metadata": {
    "pycharm": {
     "name": "#%% md\n"
    }
   },
   "source": [
    "### RandomForest \n",
    "RandomForest is an ensemble method that allows us to have a set of decision trees, and it also doesn't suffer from an overfitting issue.\n",
    "and it's done by splitting the dataset and training a decision tree classifier then when it predicts it uses all of the trees that we have in RandomForest to make the prediction. And we will use RandomForestClassifier from sklearn library and we will have about 100 decision tree in our forest."
   ]
  },
  {
   "cell_type": "code",
   "execution_count": 28,
   "id": "b12e868c",
   "metadata": {
    "pycharm": {
     "name": "#%%\n"
    },
    "scrolled": true
   },
   "outputs": [
    {
     "name": "stderr",
     "output_type": "stream",
     "text": [
      "[Parallel(n_jobs=4)]: Using backend ThreadingBackend with 4 concurrent workers.\n",
      "[Parallel(n_jobs=4)]: Done  42 tasks      | elapsed:    1.4s\n",
      "[Parallel(n_jobs=4)]: Done 100 out of 100 | elapsed:    3.2s finished\n",
      "[Parallel(n_jobs=4)]: Using backend ThreadingBackend with 4 concurrent workers.\n",
      "[Parallel(n_jobs=4)]: Done  42 tasks      | elapsed:    0.0s\n",
      "[Parallel(n_jobs=4)]: Done 100 out of 100 | elapsed:    0.0s finished\n"
     ]
    }
   ],
   "source": [
    "Forest_over = RandomForestClassifier(class_weight=\"balanced_subsample\",bootstrap=True,criterion='entropy',n_estimators=100,random_state=0,verbose=1,n_jobs=4)\n",
    "# class_weight=\"balanced_subsample\"\n",
    "Forest_over = Forest_over.fit(X_smote, y_smote)\n",
    "\n",
    "y_predict_test = Forest_over.predict(xTest)\n",
    "\n",
    "\n"
   ]
  },
  {
   "cell_type": "code",
   "execution_count": null,
   "id": "ccd2c016",
   "metadata": {
    "pycharm": {
     "name": "#%%\n"
    }
   },
   "outputs": [],
   "source": []
  },
  {
   "cell_type": "code",
   "execution_count": 29,
   "id": "bec69396",
   "metadata": {
    "pycharm": {
     "name": "#%%\n"
    }
   },
   "outputs": [
    {
     "name": "stdout",
     "output_type": "stream",
     "text": [
      "Accuracy of the test sample = 83.0%\n",
      "Precision for test data: 0.7896907216494845\n",
      "Recall: for test data 0.982051282051282\n"
     ]
    },
    {
     "data": {
      "image/png": "[encoded data removed]",
      "text/plain": [
       "<Figure size 432x288 with 2 Axes>"
      ]
     },
     "metadata": {
      "needs_background": "light"
     },
     "output_type": "display_data"
    }
   ],
   "source": [
    "print(f'Accuracy of the test sample = {round(accuracy_score(yTest, y_predict_test), 2)*100}%')\n",
    "print('Precision for test data:',metrics.precision_score(yTest,y_predict_test))\n",
    "print('Recall: for test data',metrics.recall_score(yTest,y_predict_test))\n",
    "\n",
    "plot_confusion_matrix(yTest,y_predict_test)"
   ]
  },
  {
   "cell_type": "code",
   "execution_count": 30,
   "id": "74dfe858",
   "metadata": {
    "pycharm": {
     "name": "#%%\n"
    },
    "scrolled": true
   },
   "outputs": [
    {
     "name": "stderr",
     "output_type": "stream",
     "text": [
      "[Parallel(n_jobs=4)]: Using backend ThreadingBackend with 4 concurrent workers.\n",
      "[Parallel(n_jobs=4)]: Done  42 tasks      | elapsed:    0.8s\n",
      "[Parallel(n_jobs=4)]: Done 100 out of 100 | elapsed:    1.9s finished\n",
      "[Parallel(n_jobs=4)]: Using backend ThreadingBackend with 4 concurrent workers.\n",
      "[Parallel(n_jobs=4)]: Done  42 tasks      | elapsed:    0.0s\n",
      "[Parallel(n_jobs=4)]: Done 100 out of 100 | elapsed:    0.0s finished\n"
     ]
    }
   ],
   "source": [
    "Forest_aug =RandomForestClassifier(bootstrap=True,criterion='entropy',n_estimators=100,random_state=10,verbose=1,n_jobs=4)\n",
    "Forest_aug = Forest_aug.fit(X_Aug, y_Aug)\n",
    "\n",
    "y_predict_test2 = Forest_aug.predict(xTest)\n"
   ]
  },
  {
   "cell_type": "code",
   "execution_count": 31,
   "id": "34f733c5",
   "metadata": {
    "pycharm": {
     "name": "#%%\n"
    }
   },
   "outputs": [
    {
     "name": "stdout",
     "output_type": "stream",
     "text": [
      "Accuracy of the test sample = 81.0%\n",
      "Precision for test data: 0.7735470941883767\n",
      "Recall: for test data 0.9897435897435898\n"
     ]
    },
    {
     "data": {
      "image/png": "[encoded data removed]",
      "text/plain": [
       "<Figure size 432x288 with 2 Axes>"
      ]
     },
     "metadata": {
      "needs_background": "light"
     },
     "output_type": "display_data"
    }
   ],
   "source": [
    "print(f'Accuracy of the test sample = {round(accuracy_score(yTest, y_predict_test2), 2)*100}%')\n",
    "print('Precision for test data:',metrics.precision_score(yTest,y_predict_test2))\n",
    "print('Recall: for test data',metrics.recall_score(yTest,y_predict_test2))\n",
    "\n",
    "plot_confusion_matrix(yTest,y_predict_test2)"
   ]
  },
  {
   "cell_type": "code",
   "execution_count": null,
   "id": "6c317488",
   "metadata": {
    "pycharm": {
     "name": "#%%\n"
    },
    "scrolled": false
   },
   "outputs": [],
   "source": []
  },
  {
   "cell_type": "markdown",
   "id": "63f1c45b",
   "metadata": {},
   "source": [
    "## KNN \n"
   ]
  },
  {
   "cell_type": "code",
   "execution_count": 80,
   "id": "17620cdd",
   "metadata": {
    "pycharm": {
     "name": "#%%\n"
    }
   },
   "outputs": [],
   "source": [
    "# clfs_knn = []\n",
    "# data = ['Over-sample','data augmentation']\n",
    "\n",
    "clfs_knn1=(KNeighborsClassifier(metric='manhattan').fit(X_smote,y_smote))\n",
    "clfs_knn2=(KNeighborsClassifier(metric='manhattan').fit(X_Aug,y_Aug))"
   ]
  },
  {
   "cell_type": "code",
   "execution_count": 81,
   "id": "c11ab056",
   "metadata": {
    "pycharm": {
     "name": "#%%\n"
    }
   },
   "outputs": [],
   "source": [
    "over_knn = clfs_knn1\n",
    "aug_knn = clfs_knn2"
   ]
  },
  {
   "cell_type": "code",
   "execution_count": 82,
   "id": "a4f746eb",
   "metadata": {},
   "outputs": [],
   "source": [
    "over_predK   = over_knn.predict(xTest)\n",
    "aug_predK    = aug_knn.predict(xTest)\n"
   ]
  },
  {
   "cell_type": "code",
   "execution_count": 83,
   "id": "4a19d30c",
   "metadata": {},
   "outputs": [
    {
     "name": "stdout",
     "output_type": "stream",
     "text": [
      "Accuracy on test data is (Over sample (smote) ) 0.8605769230769231\n",
      "Precision for test data: 0.8615751789976134\n",
      "Recall: for test data 0.9256410256410257\n"
     ]
    },
    {
     "data": {
      "image/png": "[encoded data removed]",
      "text/plain": [
       "<Figure size 432x288 with 2 Axes>"
      ]
     },
     "metadata": {
      "needs_background": "light"
     },
     "output_type": "display_data"
    },
    {
     "name": "stdout",
     "output_type": "stream",
     "text": [
      "Accuracy on test data is (data augmentation ) 0.7772435897435898\n",
      "Precision for test data: 0.7381404174573055\n",
      "Recall: for test data 0.9974358974358974\n"
     ]
    },
    {
     "data": {
      "image/png": "[encoded data removed]",
      "text/plain": [
       "<Figure size 432x288 with 2 Axes>"
      ]
     },
     "metadata": {
      "needs_background": "light"
     },
     "output_type": "display_data"
    }
   ],
   "source": [
    "print(\"Accuracy on test data is (Over sample (smote) )\",accuracy_score( yTest,over_predK))\n",
    "\n",
    "\n",
    "\n",
    "print('Precision for test data:',metrics.precision_score(yTest,over_predK))\n",
    "\n",
    "print('Recall: for test data',metrics.recall_score(yTest,over_predK))\n",
    "plot_confusion_matrix(yTest,over_predK)\n",
    "\n",
    "\n",
    "print(\"Accuracy on test data is (data augmentation )\",accuracy_score( yTest,aug_predK))\n",
    "print('Precision for test data:',metrics.precision_score(yTest,aug_predK))\n",
    "print('Recall: for test data',metrics.recall_score(yTest,aug_predK))\n",
    "plot_confusion_matrix(yTest,aug_predK)\n",
    "\n"
   ]
  },
  {
   "cell_type": "code",
   "execution_count": 91,
   "id": "826b6cf0",
   "metadata": {},
   "outputs": [
    {
     "name": "stdout",
     "output_type": "stream",
     "text": [
      "1\n",
      "2\n",
      "3\n",
      "4\n",
      "5\n",
      "6\n",
      "7\n",
      "8\n",
      "9\n",
      "10\n",
      "11\n",
      "12\n",
      "13\n",
      "14\n",
      "15\n",
      "16\n",
      "17\n",
      "18\n",
      "19\n",
      "20\n",
      "21\n",
      "22\n",
      "23\n",
      "24\n",
      "25\n",
      "26\n",
      "27\n",
      "28\n",
      "29\n",
      "30\n"
     ]
    },
    {
     "data": {
      "image/png": "[encoded data removed]",
      "text/plain": [
       "<Figure size 864x432 with 1 Axes>"
      ]
     },
     "metadata": {
      "needs_background": "light"
     },
     "output_type": "display_data"
    },
    {
     "name": "stdout",
     "output_type": "stream",
     "text": [
      "Minimum error:- 0.125 at K = 8\n"
     ]
    }
   ],
   "source": [
    "\n",
    "error_rate=[]#list that will store the average error rate value of k\n",
    "for i in range (1,31):  #Took the range of k from 1 to 30\n",
    "    print(i)\n",
    "    clf=KNeighborsClassifier(n_neighbors=i,metric='manhattan',n_jobs=2)\n",
    "    clf.fit(X_smote,y_smote)\n",
    "    predict_i=clf.predict(xTest)\n",
    "    error_rate.append(np.mean(predict_i!=yTest))\n",
    "#plotting the error rate vs k graph \n",
    "plt.figure(figsize=(12,6))\n",
    "plt.plot(range(1,31),error_rate,marker=\"o\",markerfacecolor=\"green\",\n",
    "         linestyle=\"dashed\",color=\"red\",markersize=15)\n",
    "plt.title(\"Error rate vs k value\",fontsize=20)\n",
    "plt.xlabel(\"k- values\",fontsize=20)\n",
    "plt.ylabel(\"error rate\",fontsize=20)\n",
    "plt.xticks(range(1,31))\n",
    "plt.show()\n",
    "print(\"Minimum error:-\",min(error_rate),\"at K =\",error_rate.index(min(error_rate))+1)"
   ]
  },
  {
   "cell_type": "code",
   "execution_count": 92,
   "id": "1c5b85dc",
   "metadata": {},
   "outputs": [
    {
     "data": {
      "image/png": "[encoded data removed]",
      "text/plain": [
       "<Figure size 864x432 with 1 Axes>"
      ]
     },
     "metadata": {
      "needs_background": "light"
     },
     "output_type": "display_data"
    },
    {
     "name": "stdout",
     "output_type": "stream",
     "text": [
      "Minimum error:- 0.18269230769230768 at K = 2\n"
     ]
    }
   ],
   "source": [
    "error_rate=[]#list that will store the average error rate value of k\n",
    "for i in range (1,31):  #Took the range of k from 1 to 30\n",
    "    clf=KNeighborsClassifier(n_neighbors=i,metric='manhattan',n_jobs=2)\n",
    "    clf.fit(X_Aug,y_Aug)\n",
    "    predict_i=clf.predict(xTest)\n",
    "    error_rate.append(np.mean(predict_i!=yTest))\n",
    "#plotting the error rate vs k graph \n",
    "plt.figure(figsize=(12,6))\n",
    "plt.plot(range(1,31),error_rate,marker=\"o\",markerfacecolor=\"green\",\n",
    "         linestyle=\"dashed\",color=\"red\",markersize=15)\n",
    "plt.title(\"Error rate vs k value\",fontsize=20)\n",
    "plt.xlabel(\"k- values\",fontsize=20)\n",
    "plt.ylabel(\"error rate\",fontsize=20)\n",
    "plt.xticks(range(1,31))\n",
    "plt.show()\n",
    "print(\"Minimum error:-\",min(error_rate),\"at K =\",error_rate.index(min(error_rate))+1)\n"
   ]
  },
  {
   "cell_type": "code",
   "execution_count": 93,
   "id": "6d1d52c3",
   "metadata": {},
   "outputs": [
    {
     "name": "stdout",
     "output_type": "stream",
     "text": [
      "Accuracy on test data is (Over sample (smote) ) 0.875\n",
      "Precision for test data: 0.8861386138613861\n",
      "Recall: for test data 0.9179487179487179\n"
     ]
    },
    {
     "data": {
      "image/png": "[encoded data removed]",
      "text/plain": [
       "<Figure size 432x288 with 2 Axes>"
      ]
     },
     "metadata": {
      "needs_background": "light"
     },
     "output_type": "display_data"
    },
    {
     "name": "stdout",
     "output_type": "stream",
     "text": [
      "Accuracy on test data is (data augmentation ) 0.8173076923076923\n",
      "Precision for test data: 0.7875\n",
      "Recall: for test data 0.9692307692307692\n"
     ]
    },
    {
     "data": {
      "image/png": "[encoded data removed]",
      "text/plain": [
       "<Figure size 432x288 with 2 Axes>"
      ]
     },
     "metadata": {
      "needs_background": "light"
     },
     "output_type": "display_data"
    }
   ],
   "source": [
    "clfs_knn1=(KNeighborsClassifier(n_neighbors=8 ,metric='manhattan').fit(X_smote,y_smote))\n",
    "clfs_knn2=(KNeighborsClassifier(n_neighbors=2,metric='manhattan').fit(X_Aug,y_Aug))\n",
    "\n",
    "over_knn1 = clfs_knn1\n",
    "aug_knn1 = clfs_knn2\n",
    "\n",
    "over_predK   = over_knn1.predict(xTest)\n",
    "aug_predK    = aug_knn1.predict(xTest)\n",
    "\n",
    "print(\"Accuracy on test data is (Over sample (smote) )\",accuracy_score( yTest,over_predK))\n",
    "print('Precision for test data:',metrics.precision_score(yTest,over_predK))\n",
    "\n",
    "print('Recall: for test data',metrics.recall_score(yTest,over_predK))\n",
    "plot_confusion_matrix(yTest,over_predK)\n",
    "\n",
    "print(\"Accuracy on test data is (data augmentation )\",accuracy_score( yTest,aug_predK))\n",
    "print('Precision for test data:',metrics.precision_score(yTest,aug_predK))\n",
    "print('Recall: for test data',metrics.recall_score(yTest,aug_predK))\n",
    "plot_confusion_matrix(yTest,aug_predK)\n"
   ]
  },
  {
   "cell_type": "code",
   "execution_count": null,
   "id": "795c1aa7",
   "metadata": {},
   "outputs": [],
   "source": []
  }
 ],
 "metadata": {
  "kernelspec": {
   "display_name": "Python 3 (ipykernel)",
   "language": "python",
   "name": "python3"
  },
  "language_info": {
   "codemirror_mode": {
    "name": "ipython",
    "version": 3
   },
   "file_extension": ".py",
   "mimetype": "text/x-python",
   "name": "python",
   "nbconvert_exporter": "python",
   "pygments_lexer": "ipython3",
   "version": "3.9.5"
  }
 },
 "nbformat": 4,
 "nbformat_minor": 5
}
